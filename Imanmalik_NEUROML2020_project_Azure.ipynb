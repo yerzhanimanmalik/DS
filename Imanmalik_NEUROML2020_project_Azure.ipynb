{
  "cells": [
    {
      "cell_type": "markdown",
      "source": [
        "<a href=\"https://colab.research.google.com/github/yerzhanimanmalik/Neuroml/blob/master/Imanmalik_NEUROML2020_project.ipynb\" target=\"_parent\"><img src=\"https://colab.research.google.com/assets/colab-badge.svg\" alt=\"Open In Colab\"/></a>"
      ],
      "metadata": {
        "id": "view-in-github",
        "colab_type": "text"
      }
    },
    {
      "cell_type": "markdown",
      "source": [
        "# Neuroml Project\n",
        "\n",
        "### Yerzhan Imanmalik\n",
        "\n",
        "\n",
        "* You are **HIGHLY RECOMMENDED** to read relevant documentation, e.g. for [python](https://docs.python.org/3/), [numpy](https://docs.scipy.org/doc/numpy/reference/), [matlpotlib](https://matplotlib.org/), [sklearn](https://scikit-learn.org/stable/) and [pytorch](https://pytorch.org/). Also remember that seminars, lecture slides, [Google](http://google.com) and [StackOverflow](https://stackoverflow.com/) are your close friends during this course (and, probably, whole life?).\n",
        "\n",
        "* If you want an easy life, you have to use **BUILT-IN METHODS** of `sklearn` and `pytorch` libraries, as well as ready **NN BUILDING BLOCKS** from `pytorch.nn` module, instead of writing tons of your own code. There exists a class/method for almost everything you can imagine (related to this homework).\n",
        "\n",
        "* To do this part of homework, you have to write **CODE** directly inside specified places inside notebook **CELLS**.\n",
        "\n",
        "* In some problems you are asked to provide short discussion of the results. In these cases you have to create **MARKDOWN** cell with your comments right after the corresponding code cell.\n",
        "\n",
        "* For every separate problem you can get only 0 points or maximal points for this problem. There are **NO INTERMEDIATE SCORES**. So make sure that you did everything required in the task\n",
        "\n",
        "* Your **SOLUTION** notebook **MUST BE REPRODUCIBLE**, i.e. if the reviewer decides to execute all, after all the computation he will obtain exactly the same solution (with all the corresponding plots) as in your uploaded notebook. For this purpose, we suggest to fix random `seed` or (better) define `random_state=` inside every algorithm that uses some pseudorandomness.\n",
        "\n",
        "* Your code must be clear to the reviewer. For this purpose, try to include neccessary comments inside the code. But remember: **GOOD CODE MUST BE SELF-EXPLANATORY** without any additional comments.\n",
        "\n",
        "* Many `sklearn` algorithms support multithreading (Ensemble Methods, Cross-Validation, etc.). Check if the particular algorithm has `n_jobs` parameters and set it to `-1` to use all the cores.\n",
        "\n",
        "To begin with, let's import the essential (for this assignment) libraries."
      ],
      "metadata": {
        "id": "wWkADk6Njbte"
      }
    },
    {
      "cell_type": "code",
      "source": [
        "import scipy as sp\n",
        "import scipy.misc\n",
        "import matplotlib.pyplot as plt\n",
        "import numpy as np\n",
        "%matplotlib inline\n",
        "import os\n",
        "os.environ[\"COMET_DISABLE_AUTO_LOGGING\"] = '1'"
      ],
      "outputs": [],
      "execution_count": 1,
      "metadata": {
        "collapsed": true,
        "jupyter": {
          "source_hidden": false,
          "outputs_hidden": false
        },
        "nteract": {
          "transient": {
            "deleting": false
          }
        },
        "gather": {
          "logged": 1603586849413
        }
      }
    },
    {
      "cell_type": "code",
      "source": [
        "!pip install --quiet --upgrade comet_ml\n",
        "# import comet_ml in the top of your file\n",
        "from comet_ml import Experiment\n",
        "\n",
        "# Create an experiment with your api key:\n",
        "experiment = Experiment(\n",
        "    api_key=\"4F0ZxgV9HxwDkyS2I8hKpYu2F\",\n",
        "    project_name=\"vae-clusterization\",\n",
        "    workspace=\"imanmal1k\",\n",
        ")\n",
        "experiment.set_name('Azure: batchsize = 2')"
      ],
      "outputs": [
        {
          "output_type": "stream",
          "name": "stderr",
          "text": [
            "COMET INFO: Experiment is live on comet.ml https://www.comet.ml/imanmal1k/vae-clusterization/41466b8baedc401a94e0a6606fa2c35d\n",
            "\n"
          ]
        }
      ],
      "execution_count": 2,
      "metadata": {
        "id": "5vcXM4UP8Ym2",
        "outputId": "1f2d0ddc-7068-406f-dfe1-66a741ec142a",
        "colab": {
          "base_uri": "https://localhost:8080/",
          "height": 71
        },
        "gather": {
          "logged": 1603586854373
        }
      }
    },
    {
      "cell_type": "code",
      "source": [
        "import os\n",
        "import time\n",
        "from tqdm import tqdm\n",
        "import nibabel as nib\n",
        "\n",
        "import numpy as np\n",
        "import pandas as pd\n",
        "import matplotlib.pyplot as plt\n",
        "from IPython.display import clear_output\n",
        "\n",
        "from sklearn.preprocessing import LabelEncoder\n",
        "from sklearn.model_selection import StratifiedKFold\n",
        "from sklearn.metrics import roc_auc_score\n",
        "\n",
        "import torch\n",
        "import torch.nn as nn\n",
        "import torch.nn.functional as F\n",
        "import torch.utils.data as data\n",
        "import torchvision\n",
        "import torchvision.transforms as transforms\n",
        "\n",
        "!pip install nilearn\n",
        "import nibabel as nib\n",
        "import numpy as np\n",
        "import os\n",
        "import pandas as pd\n",
        "import matplotlib.pyplot as plt\n",
        "from nilearn import plotting\n",
        "from nilearn import image"
      ],
      "outputs": [
        {
          "output_type": "stream",
          "name": "stdout",
          "text": [
            "Requirement already satisfied: nilearn in /anaconda/envs/azureml_py36/lib/python3.6/site-packages (0.6.2)\r\n",
            "Requirement already satisfied: scikit-learn>=0.19 in /anaconda/envs/azureml_py36/lib/python3.6/site-packages (from nilearn) (0.22.2.post1)\r\n",
            "Requirement already satisfied: numpy>=1.11 in /anaconda/envs/azureml_py36/lib/python3.6/site-packages (from nilearn) (1.18.5)\r\n",
            "Requirement already satisfied: joblib>=0.11 in /anaconda/envs/azureml_py36/lib/python3.6/site-packages (from nilearn) (0.14.1)\r\n",
            "Requirement already satisfied: nibabel>=2.0.2 in /anaconda/envs/azureml_py36/lib/python3.6/site-packages (from nilearn) (3.1.1)\r\n",
            "Requirement already satisfied: scipy>=0.19 in /anaconda/envs/azureml_py36/lib/python3.6/site-packages (from nilearn) (1.4.1)\r\n",
            "Requirement already satisfied: sklearn in /anaconda/envs/azureml_py36/lib/python3.6/site-packages (from nilearn) (0.0)\r\n",
            "Requirement already satisfied: packaging>=14.3 in /anaconda/envs/azureml_py36/lib/python3.6/site-packages (from nibabel>=2.0.2->nilearn) (20.4)\r\n",
            "Requirement already satisfied: pyparsing>=2.0.2 in /anaconda/envs/azureml_py36/lib/python3.6/site-packages (from packaging>=14.3->nibabel>=2.0.2->nilearn) (2.4.7)\r\n",
            "Requirement already satisfied: six in /anaconda/envs/azureml_py36/lib/python3.6/site-packages (from packaging>=14.3->nibabel>=2.0.2->nilearn) (1.15.0)\r\n"
          ]
        }
      ],
      "execution_count": 3,
      "metadata": {
        "id": "gVxCjunbT7_h",
        "outputId": "522aaf1b-3633-42eb-87de-4effaf4fda0b",
        "colab": {
          "base_uri": "https://localhost:8080/",
          "height": 156
        },
        "gather": {
          "logged": 1603586857892
        }
      }
    },
    {
      "cell_type": "code",
      "source": [
        "use_cuda = torch.cuda.is_available()\n",
        "\n",
        "print(\"Torch version:\", torch.__version__)\n",
        "if use_cuda:\n",
        "    print(\"Using GPU\")\n",
        "else:\n",
        "    print(\"Not using GPU\")\n",
        "\n",
        "device = 0"
      ],
      "outputs": [
        {
          "output_type": "stream",
          "name": "stdout",
          "text": [
            "Torch version: 1.4.0\n",
            "Using GPU\n"
          ]
        }
      ],
      "execution_count": 4,
      "metadata": {
        "id": "NYAg7jwSQfKn",
        "outputId": "56d4cd7c-6d7c-4850-b0c9-55b061586a70",
        "colab": {
          "base_uri": "https://localhost:8080/",
          "height": 51
        },
        "gather": {
          "logged": 1603586858022
        }
      }
    },
    {
      "cell_type": "markdown",
      "source": [
        "### Accessing data in Azure blob\n"
      ],
      "metadata": {
        "nteract": {
          "transient": {
            "deleting": false
          }
        }
      }
    },
    {
      "cell_type": "code",
      "source": [
        "import azureml.core\n",
        "from azureml.core import Workspace, Datastore\n",
        "\n",
        "ws = Workspace.from_config()\n",
        "\n",
        "blob_datastore_name='azblobsdk' # Name of the datastore to workspace\n",
        "container_name=os.getenv(\"BLOB_CONTAINER\", \"neuromlcontainer\") # Name of Azure blob container\n",
        "account_name=os.getenv(\"BLOB_ACCOUNTNAME\", \"neuromlstorage\") # Storage account name\n",
        "account_key=os.getenv(\"BLOB_ACCOUNT_KEY\", \"WlKg6m1RsuC1XBzvgYQenybBB/iOD9jXVhwpwgCvmHdil31bNBpNzEfQ+yU2yHmNl2W5GVqkjOoYcGzvo89hCg==\") # Storage account access key\n",
        "\n",
        "blob_datastore = Datastore.register_azure_blob_container(workspace=ws, \n",
        "                                                         datastore_name=blob_datastore_name, \n",
        "                                                         container_name=container_name, \n",
        "                                                         account_name=account_name,\n",
        "                                                         account_key=account_key)"
      ],
      "outputs": [],
      "execution_count": 5,
      "metadata": {
        "id": "3f8eqvJNsNwI",
        "outputId": "ddb9ac48-69a6-4d87-a6bf-c949480212ee",
        "colab": {
          "base_uri": "https://localhost:8080/",
          "height": 54
        },
        "gather": {
          "logged": 1603586860855
        }
      }
    },
    {
      "cell_type": "code",
      "source": [
        "# create a FileDataset pointing to files in 'fs_segmentation' folder and its subfolders recursively\n",
        "from azureml.core import Dataset\n",
        "\n",
        "datastore_task = [(blob_datastore, 'la5_task')]\n",
        "images_task = Dataset.File.from_files(path=datastore_task)\n",
        "\n",
        "datastore_rest = [(blob_datastore, 'la5_rest')]\n",
        "images_rest = Dataset.File.from_files(path=datastore_rest)"
      ],
      "outputs": [],
      "execution_count": 6,
      "metadata": {
        "collapsed": true,
        "jupyter": {
          "source_hidden": false,
          "outputs_hidden": false
        },
        "nteract": {
          "transient": {
            "deleting": false
          }
        },
        "gather": {
          "logged": 1603586865141
        }
      }
    },
    {
      "cell_type": "code",
      "source": [
        "import tempfile\n",
        "task_dir = tempfile.mkdtemp()\n",
        "rest_dir = tempfile.mkdtemp()\n",
        "\n",
        "context = images_task.mount(task_dir)\n",
        "context.start()\n",
        "\n",
        "context2 = images_rest.mount(rest_dir)\n",
        "context2.start()"
      ],
      "outputs": [],
      "execution_count": 7,
      "metadata": {
        "collapsed": true,
        "jupyter": {
          "source_hidden": false,
          "outputs_hidden": false
        },
        "nteract": {
          "transient": {
            "deleting": false
          }
        },
        "gather": {
          "logged": 1603586877038
        }
      }
    },
    {
      "cell_type": "markdown",
      "source": [
        "### Dataloader to load full-size fMRI task and rest data. "
      ],
      "metadata": {
        "id": "_-VQVVD492qf"
      }
    },
    {
      "cell_type": "code",
      "source": [
        "def load_nii_to_array(nii_path):\n",
        "    return np.asanyarray(nib.load(nii_path).dataobj)\n",
        "\n",
        "class fMRIDataset(data.Dataset):\n",
        "    \n",
        "    def __init__(self, task_folder_path, rest_folder_path):\n",
        "\n",
        "         self.task_folder_path = task_folder_path\n",
        "         self.rest_folder_path = rest_folder_path \n",
        "\n",
        "        \n",
        "    def __getitem__(self, i):\n",
        "      if i<267*20:\n",
        "        file_num = i // 267\n",
        "        timestamp_num = i % 267\n",
        "        file = os.listdir(self.task_folder_path)[file_num]\n",
        "        im = image.load_img(self.task_folder_path+'/'+file)\n",
        "        item = torch.Tensor(np.array(im.dataobj))[..., timestamp_num]\n",
        "        #item = load_nii_to_array(task_folder_path+'/'+file)\n",
        "        target = 1\n",
        "      else:\n",
        "        i -= 267*20\n",
        "        file_num = i // 152\n",
        "        timestamp_num = i % 152\n",
        "        file = os.listdir(self.rest_folder_path)[file_num]\n",
        "        im = image.load_img(self.rest_folder_path+'/'+file)\n",
        "        item = torch.Tensor(np.array(im.dataobj))[..., timestamp_num]\n",
        "        #item = load_nii_to_array(rest_folder_path+'/'+file)[]\n",
        "        target = 0\n",
        "      return item[1:, 6:-7, 1:][None, ...], target \n",
        "\n",
        "    def __len__(self):\n",
        "        return (267+152)*20"
      ],
      "outputs": [],
      "execution_count": 8,
      "metadata": {
        "id": "1WxJYbsm95Qs",
        "gather": {
          "logged": 1603586877163
        }
      }
    },
    {
      "cell_type": "code",
      "source": [
        "# transforms\n",
        "import warnings\n",
        "\n",
        "class ToTensor(object):\n",
        "    def __call__(self, img):\n",
        "        return torch.FloatTensor(img)"
      ],
      "outputs": [],
      "execution_count": 9,
      "metadata": {
        "id": "37GVWQjB9_fC",
        "gather": {
          "logged": 1603586877306
        }
      }
    },
    {
      "cell_type": "markdown",
      "source": [
        "### Load data"
      ],
      "metadata": {
        "id": "6TV6wtaB-HGz"
      }
    },
    {
      "cell_type": "code",
      "source": [
        "# create the dataset and load fMRI sequences\n",
        "\n",
        "task_folder_path = task_dir\n",
        "rest_folder_path = rest_dir\n",
        "\n",
        "transform = transforms.Compose([\n",
        "    ToTensor(),\n",
        "])\n",
        "\n",
        "dataset = fMRIDataset(\n",
        "    task_folder_path, \n",
        "    rest_folder_path\n",
        ")    "
      ],
      "outputs": [],
      "execution_count": 10,
      "metadata": {
        "id": "R0qaTfXV-I2K",
        "gather": {
          "logged": 1603586877415
        }
      }
    },
    {
      "cell_type": "code",
      "source": [
        "plt.imshow(dataset[0][0][0, :, 20, :])"
      ],
      "outputs": [
        {
          "output_type": "execute_result",
          "execution_count": 11,
          "data": {
            "text/plain": "<matplotlib.image.AxesImage at 0x7f21601695c0>"
          },
          "metadata": {}
        },
        {
          "output_type": "display_data",
          "data": {
            "text/plain": "<Figure size 432x288 with 1 Axes>",
            "image/png": "[encoded data removed]"
          },
          "metadata": {
            "needs_background": "light"
          }
        }
      ],
      "execution_count": 11,
      "metadata": {
        "id": "Z06wve-ptz5y",
        "outputId": "ca9dc6d0-fce8-4040-b89e-50d86c472630",
        "colab": {
          "base_uri": "https://localhost:8080/",
          "height": 285
        },
        "gather": {
          "logged": 1603586881862
        }
      }
    },
    {
      "cell_type": "code",
      "source": [
        "from sklearn.model_selection import train_test_split"
      ],
      "outputs": [],
      "execution_count": 12,
      "metadata": {
        "id": "w3gCsnAEyJhH",
        "gather": {
          "logged": 1603586881964
        }
      }
    },
    {
      "cell_type": "code",
      "source": [
        "train_idx, val_idx = train_test_split(np.arange(len(dataset)),\n",
        "                                      test_size=0.2, random_state=42)\n",
        "batch_size = 2\n",
        "train_loader = torch.utils.data.DataLoader(\n",
        "    data.Subset(dataset, train_idx), batch_size=batch_size, shuffle=True)         #  <--- LOOK HERE\n",
        "val_loader = torch.utils.data.DataLoader(\n",
        "    data.Subset(dataset, val_idx), batch_size=batch_size, shuffle=False)"
      ],
      "outputs": [],
      "execution_count": 13,
      "metadata": {
        "id": "riW2qHbwx7aD",
        "gather": {
          "logged": 1603586882056
        }
      }
    },
    {
      "cell_type": "code",
      "source": [
        "dataset[100][0].shape"
      ],
      "outputs": [
        {
          "output_type": "execute_result",
          "execution_count": 14,
          "data": {
            "text/plain": "torch.Size([1, 64, 64, 48])"
          },
          "metadata": {}
        }
      ],
      "execution_count": 14,
      "metadata": {
        "id": "CSd4Ytp3vgDl",
        "outputId": "68c5c293-9762-4e8c-f052-1907486d3711",
        "colab": {
          "base_uri": "https://localhost:8080/",
          "height": 34
        },
        "gather": {
          "logged": 1603586884742
        }
      }
    },
    {
      "cell_type": "markdown",
      "source": [
        "### Autoencoder"
      ],
      "metadata": {
        "id": "N94LXCGE9cst"
      }
    },
    {
      "cell_type": "code",
      "source": [
        "# implement Autoencoder model\n",
        "# for 64 64 48\n",
        "\n",
        "class Autoencoder3d(nn.Module):\n",
        "    def __init__(self):\n",
        "        super(self.__class__, self).__init__()\n",
        "\n",
        "        ### YOUR CODE HERE\n",
        "        \n",
        "        self.encoder = nn.Sequential(\n",
        "                nn.Conv3d(1, 32, 4, 2, 1, bias=False),\n",
        "                nn.BatchNorm3d(32),\n",
        "                nn.ReLU(inplace=True),\n",
        "                nn.Conv3d(32, 64, 4, 2, 1, bias=False),\n",
        "                nn.BatchNorm3d(64),\n",
        "                nn.ReLU(inplace=True),\n",
        "                nn.Conv3d(64, 128, 4, 2, 1, bias=False),\n",
        "                nn.BatchNorm3d(128),\n",
        "                nn.ReLU(inplace=True),\n",
        "                nn.Conv3d(128, 256, 4, 2, 1, bias=False),\n",
        "                nn.BatchNorm3d(256),\n",
        "                nn.ReLU(inplace=True),\n",
        "                #nn.AdaptiveAvgPool3d(1)\n",
        "        )\n",
        "        self.decoder = nn.Sequential(\n",
        "                nn.ConvTranspose3d(256, 128, 4, 2, 1, bias=False),\n",
        "                nn.ReLU(inplace=True),\n",
        "                nn.ConvTranspose3d(128, 64, 4, 2, 1, bias=False),\n",
        "                nn.ReLU(inplace=True),\n",
        "                nn.ConvTranspose3d(64, 32, 4, 2, 1, bias=False),\n",
        "                nn.ReLU(inplace=True),\n",
        "                nn.ConvTranspose3d(32, 1, 4, 2, 1, bias=False),\n",
        "                nn.ReLU(inplace=True),\n",
        "        )    \n",
        "        \n",
        "    def encode(self, x):\n",
        "        z = self.encoder(x) \n",
        "        return z\n",
        "    \n",
        "    def decode(self, z):\n",
        "        x_rec = self.decoder(z)\n",
        "        return x_rec\n",
        "\n",
        "    def forward(self, x): \n",
        "        z = self.encode(x)\n",
        "        x_rec = self.decode(z)\n",
        "        return x_rec, z"
      ],
      "outputs": [],
      "execution_count": 15,
      "metadata": {
        "id": "_gPzJ2SuRTKX",
        "gather": {
          "logged": 1603586884941
        }
      }
    },
    {
      "cell_type": "code",
      "source": [
        "# implement all needed train functions & train autoencoder\n",
        "\n",
        "model = Autoencoder3d()\n",
        "criterion=nn.MSELoss()\n",
        "optimizer = torch.optim.Adam(model.parameters(), lr=1e-2)\n",
        "num_epochs = 10\n",
        "train_loss = np.zeros((num_epochs, 1), dtype=float)\n",
        "val_loss = np.zeros((num_epochs, 1), dtype=float)\n",
        "\n",
        "# Train the model\n",
        "\n",
        "for epoch in range(num_epochs):\n",
        "    train_loss_list = []\n",
        "    model.train(True)\n",
        "    for i, (inputs_batch, targets_batch) in tqdm(enumerate(train_loader)):\n",
        "        # Run the forward pass\n",
        "        outputs, z = model(inputs_batch)\n",
        "        #print(outputs.shape)\n",
        "        #print(inputs_batch.shape)\n",
        "        loss = criterion(outputs, inputs_batch)\n",
        "        train_loss_list.append(loss.item())\n",
        "        \n",
        "        # Backprop and perform Adam optimisation\n",
        "        optimizer.zero_grad()\n",
        "        loss.backward()\n",
        "        optimizer.step()\n",
        "\n",
        "        if i==100:\n",
        "          break\n",
        "\n",
        "    train_loss[epoch] = np.mean(train_loss_list)\n",
        "    if (i + 1) % 1 == 0:\n",
        "      print('Epoch [{}/{}], Train loss: {:.4f}'.format(epoch + 1, num_epochs, float(train_loss[epoch])))\n",
        "      experiment.log_metric(\"train_loss\", train_loss[epoch].item())\n",
        "\n",
        "    val_loss_list = []\n",
        "    model.eval()\n",
        "    for i, (inputs_batch, targets_batch) in tqdm(enumerate(val_loader)):\n",
        "        outputs, z = model(inputs_batch)\n",
        "        #print(outputs.shape)\n",
        "        #print(inputs_batch.shape)\n",
        "        loss = criterion(outputs, inputs_batch)\n",
        "        val_loss_list.append(loss.item())\n",
        "\n",
        "        if i==100:\n",
        "          break\n",
        "\n",
        "    val_loss[epoch] = np.mean(val_loss_list)\n",
        "    if (i + 1) % 1 == 0:\n",
        "      print('Epoch [{}/{}], Val loss: {:.4f}'.format(epoch + 1, num_epochs, float(val_loss[epoch])))\n",
        "      experiment.log_metric(\"val_loss\", val_loss[epoch].item())"
      ],
      "outputs": [
        {
          "output_type": "stream",
          "name": "stderr",
          "text": [
            "100it [08:39,  5.20s/it]\n",
            "100it [08:07,  4.87s/it]\n",
            "100it [08:42,  5.22s/it]\n",
            "100it [08:01,  4.82s/it]\n",
            "100it [08:25,  5.05s/it]\n",
            "100it [08:00,  4.80s/it]\n",
            "100it [08:32,  5.12s/it]\n",
            "53it [04:10,  4.40s/it]"
          ]
        },
        {
          "output_type": "stream",
          "name": "stdout",
          "text": [
            "Epoch [1/10], Train loss: 107494.6737\n",
            "Epoch [1/10], Val loss: 23196.3914\n",
            "Epoch [2/10], Train loss: 13036.7142\n",
            "Epoch [2/10], Val loss: 10511.1604\n",
            "Epoch [3/10], Train loss: 10709.4709\n",
            "Epoch [3/10], Val loss: 10156.6764\n",
            "Epoch [4/10], Train loss: 9238.3060\n"
          ]
        }
      ],
      "execution_count": 16,
      "metadata": {
        "id": "8OLEi5Huzd83",
        "outputId": "de997008-a123-4ae3-cbbd-a6ee39a34d65",
        "colab": {
          "base_uri": "https://localhost:8080/",
          "height": 1000
        },
        "jupyter": {
          "outputs_hidden": false
        },
        "collapsed": false
      }
    },
    {
      "cell_type": "code",
      "source": [
        "model.eval()\n",
        "with torch.no_grad():\n",
        "  outputs, z = model(inputs_batch)\n",
        "  plt.figure()\n",
        "  plt.subplot(2, 1, 1)\n",
        "  plt.imshow(outputs[0, 0, 30])\n",
        "\n",
        "  plt.subplot(2, 1, 2)\n",
        "  plt.imshow(inputs_batch[0, 0, 30])"
      ],
      "outputs": [
        {
          "output_type": "display_data",
          "data": {
            "text/plain": "<Figure size 432x288 with 2 Axes>",
            "image/png": "[encoded data removed]"
          },
          "metadata": {
            "needs_background": "light"
          }
        }
      ],
      "execution_count": 37,
      "metadata": {
        "id": "3vh6QU6K-jlF",
        "outputId": "33a8e62f-5748-478e-a338-cbdc04f1fa62",
        "colab": {
          "base_uri": "https://localhost:8080/",
          "height": 269
        },
        "gather": {
          "logged": 1603608741610
        }
      }
    },
    {
      "cell_type": "code",
      "source": [
        "plt.figure(figsize=(10,7))\n",
        "plt.plot(train_loss, label = \"train loss\")\n",
        "plt.plot(val_loss, label = \"val loss\")\n",
        "plt.xlabel('epoch #')\n",
        "plt.ylabel('loss')\n",
        "plt.legend()\n",
        "plt.grid()"
      ],
      "outputs": [
        {
          "output_type": "display_data",
          "data": {
            "text/plain": "<Figure size 720x504 with 1 Axes>",
            "image/png": "[encoded data removed]"
          },
          "metadata": {
            "needs_background": "light"
          }
        }
      ],
      "execution_count": 38,
      "metadata": {
        "id": "TTwKOC9eBg3k",
        "outputId": "11ed0a43-8194-4719-eabd-795008b21e23",
        "colab": {
          "base_uri": "https://localhost:8080/",
          "height": 442
        },
        "gather": {
          "logged": 1603608748691
        }
      }
    },
    {
      "cell_type": "code",
      "source": [
        "class Classifier(nn.Module):\n",
        "    def __init__(self, encoder):\n",
        "        super(self.__class__, self).__init__()\n",
        "\n",
        "        self.encoder = encoder\n",
        "        self.classifier = nn.Sequential(\n",
        "            nn.Flatten(),\n",
        "            nn.Linear(12288, 512),\n",
        "            nn.ReLU(),\n",
        "            nn.Linear(512, 1)\n",
        "        )\n",
        "\n",
        "    def forward(self, x): \n",
        "        z = self.encoder(x)\n",
        "        y = self.classifier(z)\n",
        "        return y"
      ],
      "outputs": [],
      "execution_count": 39,
      "metadata": {
        "id": "L0pU_vf4J1lf",
        "gather": {
          "logged": 1603608765498
        }
      }
    },
    {
      "cell_type": "code",
      "source": [
        "model_clf = Classifier(model.encoder)\n",
        "criterion=nn.BCEWithLogitsLoss()\n",
        "optimizer = torch.optim.Adam(model_clf.parameters(), lr=1e-2)\n",
        "num_epochs = 10\n",
        "train_loss_clf = np.zeros((num_epochs, 1), dtype=float)\n",
        "val_loss_clf = np.zeros((num_epochs, 1), dtype=float)\n",
        "\n",
        "# Train the model\n",
        "\n",
        "for epoch in range(num_epochs):\n",
        "    train_loss_clf_list = []\n",
        "    model_clf.train(True)\n",
        "    for i, (inputs_batch, targets_batch) in tqdm(enumerate(train_loader)):\n",
        "        # Run the forward pass\n",
        "        outputs = model_clf(inputs_batch)\n",
        "        #print(outputs.shape)\n",
        "        #print(inputs_batch.shape)\n",
        "        loss = criterion(outputs.view(-1), targets_batch.view(-1).type(torch.FloatTensor))\n",
        "        train_loss_clf_list.append(loss.item())\n",
        "        \n",
        "        # Backprop and perform Adam optimisation\n",
        "        optimizer.zero_grad()\n",
        "        loss.backward()\n",
        "        optimizer.step()\n",
        "\n",
        "        if i==100:\n",
        "          break\n",
        "\n",
        "    train_loss_clf[epoch] = np.mean(train_loss_clf_list)\n",
        "    if (i + 1) % 1 == 0:\n",
        "      print('Epoch [{}/{}], Train loss: {:.4f}'.format(epoch + 1, num_epochs, float(train_loss_clf[epoch])))\n",
        "      experiment.log_metric(\"train_loss_clf\", train_loss_clf[epoch].item())\n",
        "\n",
        "    val_loss_clf_list = []\n",
        "    model_clf.eval()\n",
        "    for i, (inputs_batch, targets_batch) in tqdm(enumerate(val_loader)):\n",
        "        outputs = model_clf(inputs_batch)\n",
        "        #print(outputs.shape)\n",
        "        #print(inputs_batch.shape)\n",
        "        loss = criterion(outputs.view(-1), targets_batch.view(-1).type(torch.FloatTensor))\n",
        "        val_loss_clf_list.append(loss.item())\n",
        "\n",
        "        if i==100:\n",
        "          break\n",
        "\n",
        "    val_loss_clf[epoch] = np.mean(val_loss_clf_list)\n",
        "    if (i + 1) % 1 == 0:\n",
        "      print('Epoch [{}/{}], Val loss: {:.4f}'.format(epoch + 1, num_epochs, float(val_loss_clf[epoch])))\n",
        "      experiment.log_metric(\"val_loss_clf\", val_loss_clf[epoch].item())"
      ],
      "outputs": [
        {
          "output_type": "stream",
          "name": "stderr",
          "text": [
            "100it [08:25,  5.05s/it]\n",
            "100it [08:02,  4.83s/it]\n",
            "62it [05:08,  4.82s/it]"
          ]
        },
        {
          "output_type": "stream",
          "name": "stdout",
          "text": [
            "Epoch [1/10], Train loss: 0.6839\n",
            "Epoch [1/10], Val loss: 0.6794\n"
          ]
        }
      ],
      "execution_count": 40,
      "metadata": {
        "id": "DfLwQR0tKA2x",
        "outputId": "54cb7428-237b-4f74-eae4-491f302c55d8",
        "colab": {
          "base_uri": "https://localhost:8080/",
          "height": 1000
        }
      }
    },
    {
      "cell_type": "code",
      "source": [
        "val_loss_clf_list = []\n",
        "val_acc_clf_list = []\n",
        "model_clf.eval()\n",
        "for i, (inputs_batch, targets_batch) in tqdm(enumerate(val_loader)):\n",
        "    outputs = model_clf(inputs_batch)\n",
        "    #print(outputs.shape)\n",
        "    #print(inputs_batch.shape)\n",
        "    loss = criterion(outputs.view(-1), targets_batch.view(-1).type(torch.FloatTensor))\n",
        "    acc = ((outputs.view(-1) > 0.5) == targets_batch.view(-1).type(torch.FloatTensor)).type(torch.FloatTensor).mean()\n",
        "    val_loss_clf_list.append(loss.item())\n",
        "    val_acc_clf_list.append(acc.item())\n"
      ],
      "outputs": [
        {
          "output_type": "stream",
          "name": "stderr",
          "text": [
            "280it [22:18,  5.34s/it]"
          ]
        }
      ],
      "execution_count": 41,
      "metadata": {
        "id": "k8muqf0lYVml",
        "outputId": "89f6ed95-e311-4cb3-a800-ae50090bb046",
        "colab": {
          "base_uri": "https://localhost:8080/",
          "height": 1000
        }
      }
    },
    {
      "cell_type": "code",
      "source": [
        "np.mean(val_acc_clf_list)"
      ],
      "outputs": [],
      "execution_count": null,
      "metadata": {
        "id": "qnOmPJxofpA3",
        "outputId": "a7cd9855-ab53-4a67-e7ea-0668e6dda9d6",
        "colab": {
          "base_uri": "https://localhost:8080/",
          "height": 34
        }
      }
    },
    {
      "cell_type": "markdown",
      "source": [
        "### Check"
      ],
      "metadata": {
        "id": "ONuVMn4UYS76"
      }
    },
    {
      "cell_type": "code",
      "source": [
        "import os\n",
        "\n",
        "for file in os.listdir(task_folder_path):\n",
        "  print(file)"
      ],
      "outputs": [],
      "execution_count": null,
      "metadata": {
        "id": "OZnLnhOpC0TJ"
      }
    },
    {
      "cell_type": "code",
      "source": [
        "!pip install nilearn\n",
        "import nibabel as nib\n",
        "import numpy as np\n",
        "import os\n",
        "import pandas as pd\n",
        "import matplotlib.pyplot as plt\n",
        "from nilearn import plotting\n",
        "from nilearn import image"
      ],
      "outputs": [],
      "execution_count": null,
      "metadata": {
        "id": "EVbct3gAWeC_"
      }
    },
    {
      "cell_type": "code",
      "source": [
        "  file_num = i // 267\n",
        "  timestamp_num = i % 267\n",
        "  file = os.listdir(task_folder_path)[file_num]\n",
        "  im = image.load_img(task_folder_path+'/'+file)\n",
        "  resampled1 = torch.Tensor(np.array(im.dataobj))[..., timestamp_num] \n"
      ],
      "outputs": [],
      "execution_count": null,
      "metadata": {
        "id": "VQiu7zTsp08H"
      }
    },
    {
      "cell_type": "code",
      "source": [
        "for file in os.listdir(task_folder_path)[2:]:\n",
        "  im = image.load_img(task_folder_path+'/'+file)\n",
        "  resampled1 = torch.Tensor(np.array(im.dataobj)).permute(3,0,1,2)  # dataloader\n",
        "  print(resampled1.shape)\n",
        "  print(type(resampled1))\n",
        "  break"
      ],
      "outputs": [],
      "execution_count": null,
      "metadata": {
        "id": "PgEISSacUFBh"
      }
    },
    {
      "cell_type": "code",
      "source": [
        "for file in os.listdir(rest_folder_path):\n",
        "  im = image.load_img(rest_folder_path+'/'+file)\n",
        "  resampled = torch.Tensor(np.array(im.dataobj))\n",
        "  print(resampled.permute(3, 0, 1, 2).shape)\n",
        "  print(type(resampled))\n",
        "  break"
      ],
      "outputs": [],
      "execution_count": null,
      "metadata": {
        "id": "Er-Q6F-zlr5s"
      }
    },
    {
      "cell_type": "code",
      "source": [
        "from IPython.display import clear_output"
      ],
      "outputs": [],
      "execution_count": null,
      "metadata": {
        "id": "ZaXd26pgmAg0"
      }
    },
    {
      "cell_type": "code",
      "source": [
        " for i in range(65):\n",
        "  clear_output(True)\n",
        "  plt.figure()\n",
        "  plt.imshow(resampled1[128, i])\n",
        "  plt.show()"
      ],
      "outputs": [],
      "execution_count": null,
      "metadata": {
        "id": "OUYksXnIT48n"
      }
    },
    {
      "cell_type": "code",
      "source": [],
      "outputs": [],
      "execution_count": null,
      "metadata": {
        "id": "OCFgzlCMajqG"
      }
    },
    {
      "cell_type": "code",
      "source": [],
      "outputs": [],
      "execution_count": null,
      "metadata": {
        "id": "F9yGIQN4fi2a"
      }
    }
  ],
  "metadata": {
    "accelerator": "GPU",
    "colab": {
      "name": "Imanmalik_NEUROML2020_project.ipynb",
      "provenance": [],
      "collapsed_sections": [],
      "toc_visible": true,
      "machine_shape": "hm",
      "include_colab_link": true
    },
    "kernelspec": {
      "name": "python3",
      "language": "python",
      "display_name": "Python 3"
    },
    "language_info": {
      "name": "python",
      "version": "3.6.9",
      "mimetype": "text/x-python",
      "codemirror_mode": {
        "name": "ipython",
        "version": 3
      },
      "pygments_lexer": "ipython3",
      "nbconvert_exporter": "python",
      "file_extension": ".py"
    },
    "nteract": {
      "version": "nteract-front-end@1.0.0"
    },
    "kernel_info": {
      "name": "python3"
    }
  },
  "nbformat": 4,
  "nbformat_minor": 0
}