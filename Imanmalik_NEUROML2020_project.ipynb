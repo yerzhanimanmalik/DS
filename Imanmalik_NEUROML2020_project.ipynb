{
  "nbformat": 4,
  "nbformat_minor": 0,
  "metadata": {
    "accelerator": "GPU",
    "colab": {
      "name": "Imanmalik_NEUROML2020_project.ipynb",
      "provenance": [],
      "collapsed_sections": [],
      "toc_visible": true,
      "machine_shape": "hm"
    },
    "kernelspec": {
      "display_name": "Python 3",
      "language": "python",
      "name": "python3"
    },
    "language_info": {
      "codemirror_mode": {
        "name": "ipython",
        "version": 3
      },
      "file_extension": ".py",
      "mimetype": "text/x-python",
      "name": "python",
      "nbconvert_exporter": "python",
      "pygments_lexer": "ipython3",
      "version": "3.7.1"
    }
  },
  "cells": [
    {
      "cell_type": "markdown",
      "metadata": {
        "id": "wWkADk6Njbte"
      },
      "source": [
        "# Neuroml Project\n",
        "\n",
        "### Yerzhan Imanmalik\n",
        "\n",
        "\n",
        "* You are **HIGHLY RECOMMENDED** to read relevant documentation, e.g. for [python](https://docs.python.org/3/), [numpy](https://docs.scipy.org/doc/numpy/reference/), [matlpotlib](https://matplotlib.org/), [sklearn](https://scikit-learn.org/stable/) and [pytorch](https://pytorch.org/). Also remember that seminars, lecture slides, [Google](http://google.com) and [StackOverflow](https://stackoverflow.com/) are your close friends during this course (and, probably, whole life?).\n",
        "\n",
        "* If you want an easy life, you have to use **BUILT-IN METHODS** of `sklearn` and `pytorch` libraries, as well as ready **NN BUILDING BLOCKS** from `pytorch.nn` module, instead of writing tons of your own code. There exists a class/method for almost everything you can imagine (related to this homework).\n",
        "\n",
        "* To do this part of homework, you have to write **CODE** directly inside specified places inside notebook **CELLS**.\n",
        "\n",
        "* In some problems you are asked to provide short discussion of the results. In these cases you have to create **MARKDOWN** cell with your comments right after the corresponding code cell.\n",
        "\n",
        "* For every separate problem you can get only 0 points or maximal points for this problem. There are **NO INTERMEDIATE SCORES**. So make sure that you did everything required in the task\n",
        "\n",
        "* Your **SOLUTION** notebook **MUST BE REPRODUCIBLE**, i.e. if the reviewer decides to execute all, after all the computation he will obtain exactly the same solution (with all the corresponding plots) as in your uploaded notebook. For this purpose, we suggest to fix random `seed` or (better) define `random_state=` inside every algorithm that uses some pseudorandomness.\n",
        "\n",
        "* Your code must be clear to the reviewer. For this purpose, try to include neccessary comments inside the code. But remember: **GOOD CODE MUST BE SELF-EXPLANATORY** without any additional comments.\n",
        "\n",
        "* Many `sklearn` algorithms support multithreading (Ensemble Methods, Cross-Validation, etc.). Check if the particular algorithm has `n_jobs` parameters and set it to `-1` to use all the cores.\n",
        "\n",
        "To begin with, let's import the essential (for this assignment) libraries."
      ]
    },
    {
      "cell_type": "code",
      "metadata": {
        "id": "gVxCjunbT7_h"
      },
      "source": [
        "import os\n",
        "import time\n",
        "from tqdm import tqdm\n",
        "import nibabel as nib\n",
        "\n",
        "import numpy as np\n",
        "import pandas as pd\n",
        "import matplotlib.pyplot as plt\n",
        "from IPython.display import clear_output\n",
        "\n",
        "from sklearn.preprocessing import LabelEncoder\n",
        "from sklearn.model_selection import StratifiedKFold\n",
        "from sklearn.metrics import roc_auc_score\n",
        "\n",
        "import torch\n",
        "import torch.nn as nn\n",
        "import torch.nn.functional as F\n",
        "import torch.utils.data as data\n",
        "import torchvision\n",
        "import torchvision.transforms as transforms"
      ],
      "execution_count": 96,
      "outputs": []
    },
    {
      "cell_type": "code",
      "metadata": {
        "id": "NYAg7jwSQfKn",
        "outputId": "520fbc31-35c8-4c4a-a343-6592636214bc",
        "colab": {
          "base_uri": "https://localhost:8080/",
          "height": 51
        }
      },
      "source": [
        "use_cuda = torch.cuda.is_available()\n",
        "\n",
        "print(\"Torch version:\", torch.__version__)\n",
        "if use_cuda:\n",
        "    print(\"Using GPU\")\n",
        "else:\n",
        "    print(\"Not using GPU\")\n",
        "\n",
        "device = 0"
      ],
      "execution_count": 2,
      "outputs": [
        {
          "output_type": "stream",
          "text": [
            "Torch version: 1.6.0+cu101\n",
            "Using GPU\n"
          ],
          "name": "stdout"
        }
      ]
    },
    {
      "cell_type": "code",
      "metadata": {
        "id": "3f8eqvJNsNwI",
        "outputId": "de6257a1-3d0d-49e5-dca3-5d0045ee9788",
        "colab": {
          "base_uri": "https://localhost:8080/",
          "height": 34
        }
      },
      "source": [
        "from google.colab import drive\n",
        "drive.mount('/content/drive')"
      ],
      "execution_count": 3,
      "outputs": [
        {
          "output_type": "stream",
          "text": [
            "Mounted at /content/drive\n"
          ],
          "name": "stdout"
        }
      ]
    },
    {
      "cell_type": "code",
      "metadata": {
        "id": "zACrFFoNSFQg"
      },
      "source": [
        "# Load tensors with training and validation data\n",
        "\n",
        "tensors_train = torch.load(\"/content/drive/My Drive/NeuroML/HW3_data/tensors_train\")\n",
        "tensors_val = torch.load(\"/content/drive/My Drive/NeuroML/HW3_data/tensors_val\")"
      ],
      "execution_count": 4,
      "outputs": []
    },
    {
      "cell_type": "markdown",
      "metadata": {
        "id": "_-VQVVD492qf"
      },
      "source": [
        "### Dataloader to load full-size fMRI task and rest data. "
      ]
    },
    {
      "cell_type": "code",
      "metadata": {
        "id": "1WxJYbsm95Qs"
      },
      "source": [
        "def load_nii_to_array(nii_path):\n",
        "    return np.asanyarray(nib.load(nii_path).dataobj)\n",
        "\n",
        "class fMRIDataset(data.Dataset):\n",
        "    \n",
        "    def __init__(self, task_folder_path, rest_folder_path):\n",
        "\n",
        "         self.task_folder_path = task_folder_path\n",
        "         self.rest_folder_path = rest_folder_path \n",
        "\n",
        "        \n",
        "    def __getitem__(self, i):\n",
        "      if i<267*20:\n",
        "        file_num = i // 267\n",
        "        timestamp_num = i % 267\n",
        "        file = os.listdir(self.task_folder_path)[file_num]\n",
        "        im = image.load_img(self.task_folder_path+'/'+file)\n",
        "        item = torch.Tensor(np.array(im.dataobj))[..., timestamp_num]\n",
        "        #item = load_nii_to_array(task_folder_path+'/'+file)\n",
        "        target = 1\n",
        "      else:\n",
        "        i -= 267*20\n",
        "        file_num = i // 152\n",
        "        timestamp_num = i % 152\n",
        "        file = os.listdir(self.rest_folder_path)[file_num]\n",
        "        im = image.load_img(self.rest_folder_path+'/'+file)\n",
        "        item = torch.Tensor(np.array(im.dataobj))[..., timestamp_num]\n",
        "        #item = load_nii_to_array(rest_folder_path+'/'+file)[]\n",
        "        target = 0\n",
        "      return item[1:, 6:-7, 1:][None, ...], target \n",
        "\n",
        "    def __len__(self):\n",
        "        return (267+152)*20"
      ],
      "execution_count": 148,
      "outputs": []
    },
    {
      "cell_type": "code",
      "metadata": {
        "id": "37GVWQjB9_fC"
      },
      "source": [
        "# transforms\n",
        "import warnings\n",
        "\n",
        "class ToTensor(object):\n",
        "    def __call__(self, img):\n",
        "        return torch.FloatTensor(img)"
      ],
      "execution_count": 149,
      "outputs": []
    },
    {
      "cell_type": "markdown",
      "metadata": {
        "id": "6TV6wtaB-HGz"
      },
      "source": [
        "### Load data"
      ]
    },
    {
      "cell_type": "code",
      "metadata": {
        "id": "R0qaTfXV-I2K"
      },
      "source": [
        "# create the dataset and load fMRI sequences\n",
        "\n",
        "task_folder_path = '/content/drive/My Drive/NeuroML/la5_task'\n",
        "rest_folder_path = '/content/drive/My Drive/NeuroML/la5_rest'\n",
        "\n",
        "transform = transforms.Compose([\n",
        "    ToTensor(),\n",
        "])\n",
        "\n",
        "dataset = fMRIDataset(\n",
        "    task_folder_path, \n",
        "    rest_folder_path\n",
        ")    "
      ],
      "execution_count": 150,
      "outputs": []
    },
    {
      "cell_type": "code",
      "metadata": {
        "id": "Z06wve-ptz5y",
        "outputId": "e5a863e3-29e9-40f6-969f-b9e876f312cf",
        "colab": {
          "base_uri": "https://localhost:8080/",
          "height": 285
        }
      },
      "source": [
        "plt.imshow(dataset[0][0][0, :, 20, :])"
      ],
      "execution_count": 154,
      "outputs": [
        {
          "output_type": "execute_result",
          "data": {
            "text/plain": [
              "<matplotlib.image.AxesImage at 0x7faae64c3630>"
            ]
          },
          "metadata": {
            "tags": []
          },
          "execution_count": 154
        },
        {
          "output_type": "display_data",
          "data": {
            "image/png": "[encoded data removed]",
            "text/plain": [
              "<Figure size 432x288 with 1 Axes>"
            ]
          },
          "metadata": {
            "tags": [],
            "needs_background": "light"
          }
        }
      ]
    },
    {
      "cell_type": "code",
      "metadata": {
        "id": "w3gCsnAEyJhH"
      },
      "source": [
        "from sklearn.model_selection import train_test_split"
      ],
      "execution_count": null,
      "outputs": []
    },
    {
      "cell_type": "code",
      "metadata": {
        "id": "riW2qHbwx7aD"
      },
      "source": [
        "\n",
        "train_idx, val_idx = train_test_split(np.arange(len(dataset)),\n",
        "                                      test_size=0.2, random_state=42)\n",
        "batch_size = 2\n",
        "train_loader = torch.utils.data.DataLoader(\n",
        "    data.Subset(dataset, train_idx), batch_size=batch_size, shuffle=True)         #  <--- LOOK HERE\n",
        "val_loader = torch.utils.data.DataLoader(\n",
        "    data.Subset(dataset, val_idx), batch_size=batch_size, shuffle=False)"
      ],
      "execution_count": 155,
      "outputs": []
    },
    {
      "cell_type": "code",
      "metadata": {
        "id": "CSd4Ytp3vgDl",
        "outputId": "358124eb-8764-4758-f500-2b1c1ebccf1d",
        "colab": {
          "base_uri": "https://localhost:8080/",
          "height": 34
        }
      },
      "source": [
        "dataset[100][0].shape"
      ],
      "execution_count": 156,
      "outputs": [
        {
          "output_type": "execute_result",
          "data": {
            "text/plain": [
              "torch.Size([1, 64, 64, 48])"
            ]
          },
          "metadata": {
            "tags": []
          },
          "execution_count": 156
        }
      ]
    },
    {
      "cell_type": "markdown",
      "metadata": {
        "id": "N94LXCGE9cst"
      },
      "source": [
        "### Autoencoder"
      ]
    },
    {
      "cell_type": "code",
      "metadata": {
        "id": "_gPzJ2SuRTKX"
      },
      "source": [
        "# implement Autoencoder model\n",
        "# for 64 64 48\n",
        "\n",
        "class Autoencoder3d(nn.Module):\n",
        "    def __init__(self):\n",
        "        super(self.__class__, self).__init__()\n",
        "\n",
        "        ### YOUR CODE HERE\n",
        "        \n",
        "        self.encoder = nn.Sequential(\n",
        "                nn.Conv3d(1, 32, 4, 2, 1, bias=False),\n",
        "                nn.BatchNorm3d(32),\n",
        "                nn.ReLU(inplace=True),\n",
        "                nn.Conv3d(32, 64, 4, 2, 1, bias=False),\n",
        "                nn.BatchNorm3d(64),\n",
        "                nn.ReLU(inplace=True),\n",
        "                nn.Conv3d(64, 128, 4, 2, 1, bias=False),\n",
        "                nn.BatchNorm3d(128),\n",
        "                nn.ReLU(inplace=True),\n",
        "                nn.Conv3d(128, 256, 4, 2, 1, bias=False),\n",
        "                nn.BatchNorm3d(256),\n",
        "                nn.ReLU(inplace=True),\n",
        "                #nn.AdaptiveAvgPool3d(1)\n",
        "        )\n",
        "        self.decoder = nn.Sequential(\n",
        "                nn.ConvTranspose3d(256, 128, 4, 2, 1, bias=False),\n",
        "                nn.ReLU(inplace=True),\n",
        "                nn.ConvTranspose3d(128, 64, 4, 2, 1, bias=False),\n",
        "                nn.ReLU(inplace=True),\n",
        "                nn.ConvTranspose3d(64, 32, 4, 2, 1, bias=False),\n",
        "                nn.ReLU(inplace=True),\n",
        "                nn.ConvTranspose3d(32, 1, 4, 2, 1, bias=False),\n",
        "                nn.ReLU(inplace=True),\n",
        "        )    \n",
        "        \n",
        "    def encode(self, x):\n",
        "        z = self.encoder(x) \n",
        "        return z\n",
        "    \n",
        "    def decode(self, z):\n",
        "        x_rec = self.decoder(z)\n",
        "        return x_rec\n",
        "\n",
        "    def forward(self, x): \n",
        "        z = self.encode(x)\n",
        "        x_rec = self.decode(z)\n",
        "        return x_rec, z"
      ],
      "execution_count": 162,
      "outputs": []
    },
    {
      "cell_type": "code",
      "metadata": {
        "id": "8OLEi5Huzd83",
        "outputId": "94f9c96d-158f-4557-a88b-dd917101bae3",
        "colab": {
          "base_uri": "https://localhost:8080/",
          "height": 1000
        }
      },
      "source": [
        "# implement all needed train functions & train autoencoder\n",
        "\n",
        "model = Autoencoder3d()\n",
        "criterion=nn.MSELoss()\n",
        "optimizer = torch.optim.Adam(model.parameters(), lr=1e-3)\n",
        "num_epochs = 10\n",
        "train_loss = np.zeros((num_epochs, 1), dtype=float)\n",
        "val_loss = np.zeros((num_epochs, 1), dtype=float)\n",
        "\n",
        "# Train the model\n",
        "total_step = len(tensors_train)\n",
        "\n",
        "for epoch in range(num_epochs):\n",
        "    train_loss_list = []\n",
        "    model.train(True)\n",
        "    for i, (inputs_batch, targets_batch) in tqdm(enumerate(train_loader)):\n",
        "        # Run the forward pass\n",
        "        outputs, z = model(inputs_batch)\n",
        "        print(outputs.shape)\n",
        "        print(inputs_batch.shape)\n",
        "        loss = criterion(outputs, inputs_batch)\n",
        "        train_loss_list.append(loss.item())\n",
        "\n",
        "        # Backprop and perform Adam optimisation\n",
        "        optimizer.zero_grad()\n",
        "        loss.backward()\n",
        "        optimizer.step()\n",
        "\n",
        "    train_loss[epoch] = np.mean(train_loss_list)\n",
        "    if (i + 1) % 1 == 0:\n",
        "      print('Epoch [{}/{}], Train loss: {:.4f}'.format(epoch + 1, num_epochs, float(train_loss[epoch])))\n",
        "\n",
        "    val_loss_list = []\n",
        "    model.eval()\n",
        "    for i, val_t in enumerate(tensors_val):\n",
        "        val_t = val_t.view(1, val_t.size(0), val_t.size(1), val_t.size(2), val_t.size(3))\n",
        "        # Run the forward pass\n",
        "        outputs = model(train_t)\n",
        "        loss = criterion(outputs[0], train_t)\n",
        "        val_loss_list.append(loss.item())\n",
        "\n",
        "    val_loss[epoch] = np.mean(val_loss_list)\n",
        "    if (i + 1) % 1 == 0:\n",
        "      print('Epoch [{}/{}], Val loss: {:.4f}'.format(epoch + 1, num_epochs, float(val_loss[epoch])))"
      ],
      "execution_count": null,
      "outputs": [
        {
          "output_type": "stream",
          "text": [
            "\n",
            "\n",
            "\n",
            "\n",
            "\n",
            "\n",
            "\n",
            "0it [00:00, ?it/s]\u001b[A\u001b[A\u001b[A\u001b[A\u001b[A\u001b[A\u001b[A"
          ],
          "name": "stderr"
        },
        {
          "output_type": "stream",
          "text": [
            "torch.Size([2, 1, 64, 64, 48])\n",
            "torch.Size([2, 1, 64, 64, 48])\n"
          ],
          "name": "stdout"
        },
        {
          "output_type": "stream",
          "text": [
            "\n",
            "\n",
            "\n",
            "\n",
            "\n",
            "\n",
            "\n",
            "1it [00:05,  5.38s/it]\u001b[A\u001b[A\u001b[A\u001b[A\u001b[A\u001b[A\u001b[A"
          ],
          "name": "stderr"
        },
        {
          "output_type": "stream",
          "text": [
            "torch.Size([2, 1, 64, 64, 48])\n",
            "torch.Size([2, 1, 64, 64, 48])\n"
          ],
          "name": "stdout"
        },
        {
          "output_type": "stream",
          "text": [
            "\n",
            "\n",
            "\n",
            "\n",
            "\n",
            "\n",
            "\n",
            "2it [00:10,  5.38s/it]\u001b[A\u001b[A\u001b[A\u001b[A\u001b[A\u001b[A\u001b[A"
          ],
          "name": "stderr"
        },
        {
          "output_type": "stream",
          "text": [
            "torch.Size([2, 1, 64, 64, 48])\n",
            "torch.Size([2, 1, 64, 64, 48])\n"
          ],
          "name": "stdout"
        },
        {
          "output_type": "stream",
          "text": [
            "\n",
            "\n",
            "\n",
            "\n",
            "\n",
            "\n",
            "\n",
            "3it [00:16,  5.43s/it]\u001b[A\u001b[A\u001b[A\u001b[A\u001b[A\u001b[A\u001b[A"
          ],
          "name": "stderr"
        },
        {
          "output_type": "stream",
          "text": [
            "torch.Size([2, 1, 64, 64, 48])\n",
            "torch.Size([2, 1, 64, 64, 48])\n"
          ],
          "name": "stdout"
        },
        {
          "output_type": "stream",
          "text": [
            "\n",
            "\n",
            "\n",
            "\n",
            "\n",
            "\n",
            "\n",
            "4it [00:21,  5.37s/it]\u001b[A\u001b[A\u001b[A\u001b[A\u001b[A\u001b[A\u001b[A"
          ],
          "name": "stderr"
        },
        {
          "output_type": "stream",
          "text": [
            "torch.Size([2, 1, 64, 64, 48])\n",
            "torch.Size([2, 1, 64, 64, 48])\n"
          ],
          "name": "stdout"
        },
        {
          "output_type": "stream",
          "text": [
            "\n",
            "\n",
            "\n",
            "\n",
            "\n",
            "\n",
            "\n",
            "5it [00:25,  5.06s/it]\u001b[A\u001b[A\u001b[A\u001b[A\u001b[A\u001b[A\u001b[A"
          ],
          "name": "stderr"
        },
        {
          "output_type": "stream",
          "text": [
            "torch.Size([2, 1, 64, 64, 48])\n",
            "torch.Size([2, 1, 64, 64, 48])\n"
          ],
          "name": "stdout"
        },
        {
          "output_type": "stream",
          "text": [
            "\n",
            "\n",
            "\n",
            "\n",
            "\n",
            "\n",
            "\n",
            "6it [00:30,  4.90s/it]\u001b[A\u001b[A\u001b[A\u001b[A\u001b[A\u001b[A\u001b[A"
          ],
          "name": "stderr"
        },
        {
          "output_type": "stream",
          "text": [
            "torch.Size([2, 1, 64, 64, 48])\n",
            "torch.Size([2, 1, 64, 64, 48])\n"
          ],
          "name": "stdout"
        },
        {
          "output_type": "stream",
          "text": [
            "\n",
            "\n",
            "\n",
            "\n",
            "\n",
            "\n",
            "\n",
            "7it [00:35,  5.08s/it]\u001b[A\u001b[A\u001b[A\u001b[A\u001b[A\u001b[A\u001b[A"
          ],
          "name": "stderr"
        },
        {
          "output_type": "stream",
          "text": [
            "torch.Size([2, 1, 64, 64, 48])\n",
            "torch.Size([2, 1, 64, 64, 48])\n"
          ],
          "name": "stdout"
        },
        {
          "output_type": "stream",
          "text": [
            "\n",
            "\n",
            "\n",
            "\n",
            "\n",
            "\n",
            "\n",
            "8it [00:40,  4.90s/it]\u001b[A\u001b[A\u001b[A\u001b[A\u001b[A\u001b[A\u001b[A"
          ],
          "name": "stderr"
        },
        {
          "output_type": "stream",
          "text": [
            "torch.Size([2, 1, 64, 64, 48])\n",
            "torch.Size([2, 1, 64, 64, 48])\n"
          ],
          "name": "stdout"
        },
        {
          "output_type": "stream",
          "text": [
            "\n",
            "\n",
            "\n",
            "\n",
            "\n",
            "\n",
            "\n",
            "9it [00:45,  5.10s/it]\u001b[A\u001b[A\u001b[A\u001b[A\u001b[A\u001b[A\u001b[A"
          ],
          "name": "stderr"
        },
        {
          "output_type": "stream",
          "text": [
            "torch.Size([2, 1, 64, 64, 48])\n",
            "torch.Size([2, 1, 64, 64, 48])\n"
          ],
          "name": "stdout"
        },
        {
          "output_type": "stream",
          "text": [
            "\n",
            "\n",
            "\n",
            "\n",
            "\n",
            "\n",
            "\n",
            "10it [00:51,  5.22s/it]\u001b[A\u001b[A\u001b[A\u001b[A\u001b[A\u001b[A\u001b[A"
          ],
          "name": "stderr"
        },
        {
          "output_type": "stream",
          "text": [
            "torch.Size([2, 1, 64, 64, 48])\n",
            "torch.Size([2, 1, 64, 64, 48])\n"
          ],
          "name": "stdout"
        },
        {
          "output_type": "stream",
          "text": [
            "\n",
            "\n",
            "\n",
            "\n",
            "\n",
            "\n",
            "\n",
            "11it [00:55,  4.99s/it]\u001b[A\u001b[A\u001b[A\u001b[A\u001b[A\u001b[A\u001b[A"
          ],
          "name": "stderr"
        },
        {
          "output_type": "stream",
          "text": [
            "torch.Size([2, 1, 64, 64, 48])\n",
            "torch.Size([2, 1, 64, 64, 48])\n"
          ],
          "name": "stdout"
        },
        {
          "output_type": "stream",
          "text": [
            "\n",
            "\n",
            "\n",
            "\n",
            "\n",
            "\n",
            "\n",
            "12it [01:01,  5.10s/it]\u001b[A\u001b[A\u001b[A\u001b[A\u001b[A\u001b[A\u001b[A"
          ],
          "name": "stderr"
        },
        {
          "output_type": "stream",
          "text": [
            "torch.Size([2, 1, 64, 64, 48])\n",
            "torch.Size([2, 1, 64, 64, 48])\n"
          ],
          "name": "stdout"
        },
        {
          "output_type": "stream",
          "text": [
            "\n",
            "\n",
            "\n",
            "\n",
            "\n",
            "\n",
            "\n",
            "13it [01:05,  4.77s/it]\u001b[A\u001b[A\u001b[A\u001b[A\u001b[A\u001b[A\u001b[A"
          ],
          "name": "stderr"
        },
        {
          "output_type": "stream",
          "text": [
            "torch.Size([2, 1, 64, 64, 48])\n",
            "torch.Size([2, 1, 64, 64, 48])\n"
          ],
          "name": "stdout"
        },
        {
          "output_type": "stream",
          "text": [
            "\n",
            "\n",
            "\n",
            "\n",
            "\n",
            "\n",
            "\n",
            "14it [01:09,  4.57s/it]\u001b[A\u001b[A\u001b[A\u001b[A\u001b[A\u001b[A\u001b[A"
          ],
          "name": "stderr"
        },
        {
          "output_type": "stream",
          "text": [
            "torch.Size([2, 1, 64, 64, 48])\n",
            "torch.Size([2, 1, 64, 64, 48])\n"
          ],
          "name": "stdout"
        },
        {
          "output_type": "stream",
          "text": [
            "\n",
            "\n",
            "\n",
            "\n",
            "\n",
            "\n",
            "\n",
            "15it [01:12,  4.22s/it]\u001b[A\u001b[A\u001b[A\u001b[A\u001b[A\u001b[A\u001b[A"
          ],
          "name": "stderr"
        },
        {
          "output_type": "stream",
          "text": [
            "torch.Size([2, 1, 64, 64, 48])\n",
            "torch.Size([2, 1, 64, 64, 48])\n"
          ],
          "name": "stdout"
        },
        {
          "output_type": "stream",
          "text": [
            "\n",
            "\n",
            "\n",
            "\n",
            "\n",
            "\n",
            "\n",
            "16it [01:18,  4.63s/it]\u001b[A\u001b[A\u001b[A\u001b[A\u001b[A\u001b[A\u001b[A"
          ],
          "name": "stderr"
        },
        {
          "output_type": "stream",
          "text": [
            "torch.Size([2, 1, 64, 64, 48])\n",
            "torch.Size([2, 1, 64, 64, 48])\n"
          ],
          "name": "stdout"
        },
        {
          "output_type": "stream",
          "text": [
            "\n",
            "\n",
            "\n",
            "\n",
            "\n",
            "\n",
            "\n",
            "17it [01:21,  4.23s/it]\u001b[A\u001b[A\u001b[A\u001b[A\u001b[A\u001b[A\u001b[A"
          ],
          "name": "stderr"
        },
        {
          "output_type": "stream",
          "text": [
            "torch.Size([2, 1, 64, 64, 48])\n",
            "torch.Size([2, 1, 64, 64, 48])\n"
          ],
          "name": "stdout"
        },
        {
          "output_type": "stream",
          "text": [
            "\n",
            "\n",
            "\n",
            "\n",
            "\n",
            "\n",
            "\n",
            "18it [01:26,  4.29s/it]\u001b[A\u001b[A\u001b[A\u001b[A\u001b[A\u001b[A\u001b[A"
          ],
          "name": "stderr"
        },
        {
          "output_type": "stream",
          "text": [
            "torch.Size([2, 1, 64, 64, 48])\n",
            "torch.Size([2, 1, 64, 64, 48])\n"
          ],
          "name": "stdout"
        },
        {
          "output_type": "stream",
          "text": [
            "\n",
            "\n",
            "\n",
            "\n",
            "\n",
            "\n",
            "\n",
            "19it [01:31,  4.65s/it]\u001b[A\u001b[A\u001b[A\u001b[A\u001b[A\u001b[A\u001b[A"
          ],
          "name": "stderr"
        },
        {
          "output_type": "stream",
          "text": [
            "torch.Size([2, 1, 64, 64, 48])\n",
            "torch.Size([2, 1, 64, 64, 48])\n"
          ],
          "name": "stdout"
        },
        {
          "output_type": "stream",
          "text": [
            "\n",
            "\n",
            "\n",
            "\n",
            "\n",
            "\n",
            "\n",
            "20it [01:37,  4.94s/it]\u001b[A\u001b[A\u001b[A\u001b[A\u001b[A\u001b[A\u001b[A"
          ],
          "name": "stderr"
        },
        {
          "output_type": "stream",
          "text": [
            "torch.Size([2, 1, 64, 64, 48])\n",
            "torch.Size([2, 1, 64, 64, 48])\n"
          ],
          "name": "stdout"
        },
        {
          "output_type": "stream",
          "text": [
            "\n",
            "\n",
            "\n",
            "\n",
            "\n",
            "\n",
            "\n",
            "21it [01:41,  4.79s/it]\u001b[A\u001b[A\u001b[A\u001b[A\u001b[A\u001b[A\u001b[A"
          ],
          "name": "stderr"
        },
        {
          "output_type": "stream",
          "text": [
            "torch.Size([2, 1, 64, 64, 48])\n",
            "torch.Size([2, 1, 64, 64, 48])\n"
          ],
          "name": "stdout"
        },
        {
          "output_type": "stream",
          "text": [
            "\n",
            "\n",
            "\n",
            "\n",
            "\n",
            "\n",
            "\n",
            "22it [01:44,  4.34s/it]\u001b[A\u001b[A\u001b[A\u001b[A\u001b[A\u001b[A\u001b[A"
          ],
          "name": "stderr"
        },
        {
          "output_type": "stream",
          "text": [
            "torch.Size([2, 1, 64, 64, 48])\n",
            "torch.Size([2, 1, 64, 64, 48])\n"
          ],
          "name": "stdout"
        },
        {
          "output_type": "stream",
          "text": [
            "\n",
            "\n",
            "\n",
            "\n",
            "\n",
            "\n",
            "\n",
            "23it [01:49,  4.40s/it]\u001b[A\u001b[A\u001b[A\u001b[A\u001b[A\u001b[A\u001b[A"
          ],
          "name": "stderr"
        },
        {
          "output_type": "stream",
          "text": [
            "torch.Size([2, 1, 64, 64, 48])\n",
            "torch.Size([2, 1, 64, 64, 48])\n"
          ],
          "name": "stdout"
        },
        {
          "output_type": "stream",
          "text": [
            "\n",
            "\n",
            "\n",
            "\n",
            "\n",
            "\n",
            "\n",
            "24it [01:53,  4.35s/it]\u001b[A\u001b[A\u001b[A\u001b[A\u001b[A\u001b[A\u001b[A"
          ],
          "name": "stderr"
        },
        {
          "output_type": "stream",
          "text": [
            "torch.Size([2, 1, 64, 64, 48])\n",
            "torch.Size([2, 1, 64, 64, 48])\n"
          ],
          "name": "stdout"
        },
        {
          "output_type": "stream",
          "text": [
            "\n",
            "\n",
            "\n",
            "\n",
            "\n",
            "\n",
            "\n",
            "25it [01:56,  4.03s/it]\u001b[A\u001b[A\u001b[A\u001b[A\u001b[A\u001b[A\u001b[A"
          ],
          "name": "stderr"
        },
        {
          "output_type": "stream",
          "text": [
            "torch.Size([2, 1, 64, 64, 48])\n",
            "torch.Size([2, 1, 64, 64, 48])\n"
          ],
          "name": "stdout"
        },
        {
          "output_type": "stream",
          "text": [
            "\n",
            "\n",
            "\n",
            "\n",
            "\n",
            "\n",
            "\n",
            "26it [02:01,  4.15s/it]\u001b[A\u001b[A\u001b[A\u001b[A\u001b[A\u001b[A\u001b[A"
          ],
          "name": "stderr"
        },
        {
          "output_type": "stream",
          "text": [
            "torch.Size([2, 1, 64, 64, 48])\n",
            "torch.Size([2, 1, 64, 64, 48])\n"
          ],
          "name": "stdout"
        },
        {
          "output_type": "stream",
          "text": [
            "\n",
            "\n",
            "\n",
            "\n",
            "\n",
            "\n",
            "\n",
            "27it [02:04,  3.86s/it]\u001b[A\u001b[A\u001b[A\u001b[A\u001b[A\u001b[A\u001b[A"
          ],
          "name": "stderr"
        },
        {
          "output_type": "stream",
          "text": [
            "torch.Size([2, 1, 64, 64, 48])\n",
            "torch.Size([2, 1, 64, 64, 48])\n"
          ],
          "name": "stdout"
        },
        {
          "output_type": "stream",
          "text": [
            "\n",
            "\n",
            "\n",
            "\n",
            "\n",
            "\n",
            "\n",
            "28it [02:09,  4.08s/it]\u001b[A\u001b[A\u001b[A\u001b[A\u001b[A\u001b[A\u001b[A"
          ],
          "name": "stderr"
        },
        {
          "output_type": "stream",
          "text": [
            "torch.Size([2, 1, 64, 64, 48])\n",
            "torch.Size([2, 1, 64, 64, 48])\n"
          ],
          "name": "stdout"
        },
        {
          "output_type": "stream",
          "text": [
            "\n",
            "\n",
            "\n",
            "\n",
            "\n",
            "\n",
            "\n",
            "29it [02:12,  3.84s/it]\u001b[A\u001b[A\u001b[A\u001b[A\u001b[A\u001b[A\u001b[A"
          ],
          "name": "stderr"
        },
        {
          "output_type": "stream",
          "text": [
            "torch.Size([2, 1, 64, 64, 48])\n",
            "torch.Size([2, 1, 64, 64, 48])\n"
          ],
          "name": "stdout"
        },
        {
          "output_type": "stream",
          "text": [
            "\n",
            "\n",
            "\n",
            "\n",
            "\n",
            "\n",
            "\n",
            "30it [02:16,  4.04s/it]\u001b[A\u001b[A\u001b[A\u001b[A\u001b[A\u001b[A\u001b[A"
          ],
          "name": "stderr"
        },
        {
          "output_type": "stream",
          "text": [
            "torch.Size([2, 1, 64, 64, 48])\n",
            "torch.Size([2, 1, 64, 64, 48])\n"
          ],
          "name": "stdout"
        },
        {
          "output_type": "stream",
          "text": [
            "\n",
            "\n",
            "\n",
            "\n",
            "\n",
            "\n",
            "\n",
            "31it [02:21,  4.08s/it]\u001b[A\u001b[A\u001b[A\u001b[A\u001b[A\u001b[A\u001b[A"
          ],
          "name": "stderr"
        },
        {
          "output_type": "stream",
          "text": [
            "torch.Size([2, 1, 64, 64, 48])\n",
            "torch.Size([2, 1, 64, 64, 48])\n"
          ],
          "name": "stdout"
        },
        {
          "output_type": "stream",
          "text": [
            "\n",
            "\n",
            "\n",
            "\n",
            "\n",
            "\n",
            "\n",
            "32it [02:24,  3.87s/it]\u001b[A\u001b[A\u001b[A\u001b[A\u001b[A\u001b[A\u001b[A"
          ],
          "name": "stderr"
        },
        {
          "output_type": "stream",
          "text": [
            "torch.Size([2, 1, 64, 64, 48])\n",
            "torch.Size([2, 1, 64, 64, 48])\n"
          ],
          "name": "stdout"
        },
        {
          "output_type": "stream",
          "text": [
            "\n",
            "\n",
            "\n",
            "\n",
            "\n",
            "\n",
            "\n",
            "33it [02:30,  4.37s/it]\u001b[A\u001b[A\u001b[A\u001b[A\u001b[A\u001b[A\u001b[A"
          ],
          "name": "stderr"
        },
        {
          "output_type": "stream",
          "text": [
            "torch.Size([2, 1, 64, 64, 48])\n",
            "torch.Size([2, 1, 64, 64, 48])\n"
          ],
          "name": "stdout"
        },
        {
          "output_type": "stream",
          "text": [
            "\n",
            "\n",
            "\n",
            "\n",
            "\n",
            "\n",
            "\n",
            "34it [02:34,  4.39s/it]\u001b[A\u001b[A\u001b[A\u001b[A\u001b[A\u001b[A\u001b[A"
          ],
          "name": "stderr"
        },
        {
          "output_type": "stream",
          "text": [
            "torch.Size([2, 1, 64, 64, 48])\n",
            "torch.Size([2, 1, 64, 64, 48])\n"
          ],
          "name": "stdout"
        },
        {
          "output_type": "stream",
          "text": [
            "\n",
            "\n",
            "\n",
            "\n",
            "\n",
            "\n",
            "\n",
            "35it [02:40,  4.76s/it]\u001b[A\u001b[A\u001b[A\u001b[A\u001b[A\u001b[A\u001b[A"
          ],
          "name": "stderr"
        },
        {
          "output_type": "stream",
          "text": [
            "torch.Size([2, 1, 64, 64, 48])\n",
            "torch.Size([2, 1, 64, 64, 48])\n"
          ],
          "name": "stdout"
        },
        {
          "output_type": "stream",
          "text": [
            "\n",
            "\n",
            "\n",
            "\n",
            "\n",
            "\n",
            "\n",
            "36it [02:44,  4.69s/it]\u001b[A\u001b[A\u001b[A\u001b[A\u001b[A\u001b[A\u001b[A"
          ],
          "name": "stderr"
        },
        {
          "output_type": "stream",
          "text": [
            "torch.Size([2, 1, 64, 64, 48])\n",
            "torch.Size([2, 1, 64, 64, 48])\n"
          ],
          "name": "stdout"
        },
        {
          "output_type": "stream",
          "text": [
            "\n",
            "\n",
            "\n",
            "\n",
            "\n",
            "\n",
            "\n",
            "37it [02:49,  4.67s/it]\u001b[A\u001b[A\u001b[A\u001b[A\u001b[A\u001b[A\u001b[A"
          ],
          "name": "stderr"
        },
        {
          "output_type": "stream",
          "text": [
            "torch.Size([2, 1, 64, 64, 48])\n",
            "torch.Size([2, 1, 64, 64, 48])\n"
          ],
          "name": "stdout"
        },
        {
          "output_type": "stream",
          "text": [
            "\n",
            "\n",
            "\n",
            "\n",
            "\n",
            "\n",
            "\n",
            "38it [02:54,  4.85s/it]\u001b[A\u001b[A\u001b[A\u001b[A\u001b[A\u001b[A\u001b[A"
          ],
          "name": "stderr"
        },
        {
          "output_type": "stream",
          "text": [
            "torch.Size([2, 1, 64, 64, 48])\n",
            "torch.Size([2, 1, 64, 64, 48])\n"
          ],
          "name": "stdout"
        },
        {
          "output_type": "stream",
          "text": [
            "\n",
            "\n",
            "\n",
            "\n",
            "\n",
            "\n",
            "\n",
            "39it [02:58,  4.73s/it]\u001b[A\u001b[A\u001b[A\u001b[A\u001b[A\u001b[A\u001b[A"
          ],
          "name": "stderr"
        },
        {
          "output_type": "stream",
          "text": [
            "torch.Size([2, 1, 64, 64, 48])\n",
            "torch.Size([2, 1, 64, 64, 48])\n"
          ],
          "name": "stdout"
        },
        {
          "output_type": "stream",
          "text": [
            "\n",
            "\n",
            "\n",
            "\n",
            "\n",
            "\n",
            "\n",
            "40it [03:03,  4.62s/it]\u001b[A\u001b[A\u001b[A\u001b[A\u001b[A\u001b[A\u001b[A"
          ],
          "name": "stderr"
        },
        {
          "output_type": "stream",
          "text": [
            "torch.Size([2, 1, 64, 64, 48])\n",
            "torch.Size([2, 1, 64, 64, 48])\n"
          ],
          "name": "stdout"
        },
        {
          "output_type": "stream",
          "text": [
            "\n",
            "\n",
            "\n",
            "\n",
            "\n",
            "\n",
            "\n",
            "41it [03:06,  4.24s/it]\u001b[A\u001b[A\u001b[A\u001b[A\u001b[A\u001b[A\u001b[A"
          ],
          "name": "stderr"
        },
        {
          "output_type": "stream",
          "text": [
            "torch.Size([2, 1, 64, 64, 48])\n",
            "torch.Size([2, 1, 64, 64, 48])\n"
          ],
          "name": "stdout"
        },
        {
          "output_type": "stream",
          "text": [
            "\n",
            "\n",
            "\n",
            "\n",
            "\n",
            "\n",
            "\n",
            "42it [03:09,  3.95s/it]\u001b[A\u001b[A\u001b[A\u001b[A\u001b[A\u001b[A\u001b[A"
          ],
          "name": "stderr"
        },
        {
          "output_type": "stream",
          "text": [
            "torch.Size([2, 1, 64, 64, 48])\n",
            "torch.Size([2, 1, 64, 64, 48])\n"
          ],
          "name": "stdout"
        },
        {
          "output_type": "stream",
          "text": [
            "\n",
            "\n",
            "\n",
            "\n",
            "\n",
            "\n",
            "\n",
            "43it [03:14,  4.04s/it]\u001b[A\u001b[A\u001b[A\u001b[A\u001b[A\u001b[A\u001b[A"
          ],
          "name": "stderr"
        },
        {
          "output_type": "stream",
          "text": [
            "torch.Size([2, 1, 64, 64, 48])\n",
            "torch.Size([2, 1, 64, 64, 48])\n"
          ],
          "name": "stdout"
        },
        {
          "output_type": "stream",
          "text": [
            "\n",
            "\n",
            "\n",
            "\n",
            "\n",
            "\n",
            "\n",
            "44it [03:17,  3.82s/it]\u001b[A\u001b[A\u001b[A\u001b[A\u001b[A\u001b[A\u001b[A"
          ],
          "name": "stderr"
        },
        {
          "output_type": "stream",
          "text": [
            "torch.Size([2, 1, 64, 64, 48])\n",
            "torch.Size([2, 1, 64, 64, 48])\n"
          ],
          "name": "stdout"
        },
        {
          "output_type": "stream",
          "text": [
            "\n",
            "\n",
            "\n",
            "\n",
            "\n",
            "\n",
            "\n",
            "45it [03:20,  3.66s/it]\u001b[A\u001b[A\u001b[A\u001b[A\u001b[A\u001b[A\u001b[A"
          ],
          "name": "stderr"
        },
        {
          "output_type": "stream",
          "text": [
            "torch.Size([2, 1, 64, 64, 48])\n",
            "torch.Size([2, 1, 64, 64, 48])\n"
          ],
          "name": "stdout"
        },
        {
          "output_type": "stream",
          "text": [
            "\n",
            "\n",
            "\n",
            "\n",
            "\n",
            "\n",
            "\n",
            "46it [03:24,  3.55s/it]\u001b[A\u001b[A\u001b[A\u001b[A\u001b[A\u001b[A\u001b[A"
          ],
          "name": "stderr"
        },
        {
          "output_type": "stream",
          "text": [
            "torch.Size([2, 1, 64, 64, 48])\n",
            "torch.Size([2, 1, 64, 64, 48])\n"
          ],
          "name": "stdout"
        },
        {
          "output_type": "stream",
          "text": [
            "\n",
            "\n",
            "\n",
            "\n",
            "\n",
            "\n",
            "\n",
            "47it [03:28,  3.82s/it]\u001b[A\u001b[A\u001b[A\u001b[A\u001b[A\u001b[A\u001b[A"
          ],
          "name": "stderr"
        },
        {
          "output_type": "stream",
          "text": [
            "torch.Size([2, 1, 64, 64, 48])\n",
            "torch.Size([2, 1, 64, 64, 48])\n"
          ],
          "name": "stdout"
        },
        {
          "output_type": "stream",
          "text": [
            "\n",
            "\n",
            "\n",
            "\n",
            "\n",
            "\n",
            "\n",
            "48it [03:32,  3.99s/it]\u001b[A\u001b[A\u001b[A\u001b[A\u001b[A\u001b[A\u001b[A"
          ],
          "name": "stderr"
        },
        {
          "output_type": "stream",
          "text": [
            "torch.Size([2, 1, 64, 64, 48])\n",
            "torch.Size([2, 1, 64, 64, 48])\n"
          ],
          "name": "stdout"
        },
        {
          "output_type": "stream",
          "text": [
            "\n",
            "\n",
            "\n",
            "\n",
            "\n",
            "\n",
            "\n",
            "49it [03:38,  4.46s/it]\u001b[A\u001b[A\u001b[A\u001b[A\u001b[A\u001b[A\u001b[A"
          ],
          "name": "stderr"
        }
      ]
    },
    {
      "cell_type": "code",
      "metadata": {
        "id": "TTwKOC9eBg3k"
      },
      "source": [
        "plt.figure(figsize=(10,7))\n",
        "plt.plot(train_loss, label = \"train loss\")\n",
        "plt.plot(val_loss, label = \"val loss\")\n",
        "plt.xlabel('epoch #')\n",
        "plt.ylabel('loss')\n",
        "plt.legend()\n",
        "plt.grid()"
      ],
      "execution_count": null,
      "outputs": []
    },
    {
      "cell_type": "code",
      "metadata": {
        "id": "qLvJ9RwDYWf4"
      },
      "source": [
        "# save trained autoencoder model\n",
        "name = \"fMRI_Autoencoder\"\n",
        "print(name)\n",
        "torch.save({\n",
        "    'epoch': 10,\n",
        "    'model_state_dict': model.state_dict(),\n",
        "    'optimizer_state_dict': optimizer.state_dict(),\n",
        "}, \"/content/drive/My Drive/{}.pth\".format(name))"
      ],
      "execution_count": null,
      "outputs": []
    },
    {
      "cell_type": "code",
      "metadata": {
        "id": "OZnLnhOpC0TJ",
        "outputId": "9ddfbf22-08da-480f-ab07-f849539a1e8d",
        "colab": {
          "base_uri": "https://localhost:8080/",
          "height": 357
        }
      },
      "source": [
        "import os\n",
        "\n",
        "for file in os.listdir(task_folder_path):\n",
        "  print(file)"
      ],
      "execution_count": 14,
      "outputs": [
        {
          "output_type": "stream",
          "text": [
            "sub-10271_task-bart_bold_space-MNI152NLin2009cAsym_preproc.nii.gz\n",
            "sub-10280_task-bart_bold_space-MNI152NLin2009cAsym_preproc.nii.gz\n",
            "sub-10228_task-bart_bold_space-MNI152NLin2009cAsym_preproc.nii.gz\n",
            "sub-10235_task-bart_bold_space-MNI152NLin2009cAsym_preproc.nii.gz\n",
            "sub-10273_task-bart_bold_space-MNI152NLin2009cAsym_preproc.nii.gz\n",
            "sub-10249_task-bart_bold_space-MNI152NLin2009cAsym_preproc.nii.gz\n",
            "sub-10274_task-bart_bold_space-MNI152NLin2009cAsym_preproc.nii.gz\n",
            "sub-10227_task-bart_bold_space-MNI152NLin2009cAsym_preproc.nii.gz\n",
            "sub-10225_task-bart_bold_space-MNI152NLin2009cAsym_preproc.nii.gz\n",
            "sub-10269_task-bart_bold_space-MNI152NLin2009cAsym_preproc.nii.gz\n",
            "sub-10292_task-bart_bold_space-MNI152NLin2009cAsym_preproc.nii.gz\n",
            "sub-10329_task-bart_bold_space-MNI152NLin2009cAsym_preproc.nii.gz\n",
            "sub-10347_task-bart_bold_space-MNI152NLin2009cAsym_preproc.nii.gz\n",
            "sub-10325_task-bart_bold_space-MNI152NLin2009cAsym_preproc.nii.gz\n",
            "sub-10340_task-bart_bold_space-MNI152NLin2009cAsym_preproc.nii.gz\n",
            "sub-10321_task-bart_bold_space-MNI152NLin2009cAsym_preproc.nii.gz\n",
            "sub-10316_task-bart_bold_space-MNI152NLin2009cAsym_preproc.nii.gz\n",
            "sub-10339_task-bart_bold_space-MNI152NLin2009cAsym_preproc.nii.gz\n",
            "sub-10290_task-bart_bold_space-MNI152NLin2009cAsym_preproc.nii.gz\n",
            "sub-10304_task-bart_bold_space-MNI152NLin2009cAsym_preproc.nii.gz\n"
          ],
          "name": "stdout"
        }
      ]
    },
    {
      "cell_type": "code",
      "metadata": {
        "id": "EVbct3gAWeC_",
        "outputId": "0a16e628-f206-4b5d-b97a-620a9f0c758f",
        "colab": {
          "base_uri": "https://localhost:8080/",
          "height": 224
        }
      },
      "source": [
        "!pip install nilearn\n",
        "import nibabel as nib\n",
        "import numpy as np\n",
        "import os\n",
        "import pandas as pd\n",
        "import matplotlib.pyplot as plt\n",
        "from nilearn import plotting\n",
        "from nilearn import image"
      ],
      "execution_count": 16,
      "outputs": [
        {
          "output_type": "stream",
          "text": [
            "Collecting nilearn\n",
            "\u001b[?25l  Downloading https://files.pythonhosted.org/packages/b9/c2/f5f1bdd37a3da28b3b34305e4ba27cce468db6073998d62a38abd0e281da/nilearn-0.6.2-py3-none-any.whl (2.5MB)\n",
            "\u001b[K     |████████████████████████████████| 2.5MB 2.0MB/s \n",
            "\u001b[?25hRequirement already satisfied: nibabel>=2.0.2 in /usr/local/lib/python3.6/dist-packages (from nilearn) (3.0.2)\n",
            "Requirement already satisfied: numpy>=1.11 in /usr/local/lib/python3.6/dist-packages (from nilearn) (1.18.5)\n",
            "Requirement already satisfied: joblib>=0.11 in /usr/local/lib/python3.6/dist-packages (from nilearn) (0.16.0)\n",
            "Requirement already satisfied: sklearn in /usr/local/lib/python3.6/dist-packages (from nilearn) (0.0)\n",
            "Requirement already satisfied: scikit-learn>=0.19 in /usr/local/lib/python3.6/dist-packages (from nilearn) (0.22.2.post1)\n",
            "Requirement already satisfied: scipy>=0.19 in /usr/local/lib/python3.6/dist-packages (from nilearn) (1.4.1)\n",
            "Installing collected packages: nilearn\n",
            "Successfully installed nilearn-0.6.2\n"
          ],
          "name": "stdout"
        }
      ]
    },
    {
      "cell_type": "code",
      "metadata": {
        "id": "VQiu7zTsp08H"
      },
      "source": [
        "  file_num = i // 267\n",
        "  timestamp_num = i % 267\n",
        "  file = os.listdir(task_folder_path)[file_num]\n",
        "  im = image.load_img(task_folder_path+'/'+file)\n",
        "  resampled1 = torch.Tensor(np.array(im.dataobj))[..., timestamp_num] \n"
      ],
      "execution_count": null,
      "outputs": []
    },
    {
      "cell_type": "code",
      "metadata": {
        "id": "PgEISSacUFBh",
        "outputId": "be665b79-deda-47f1-b928-d6a234700c27",
        "colab": {
          "base_uri": "https://localhost:8080/",
          "height": 51
        }
      },
      "source": [
        "for file in os.listdir(task_folder_path)[2:]:\n",
        "  im = image.load_img(task_folder_path+'/'+file)\n",
        "  resampled1 = torch.Tensor(np.array(im.dataobj)).permute(3,0,1,2)  # dataloader\n",
        "  print(resampled1.shape)\n",
        "  print(type(resampled1))\n",
        "  break"
      ],
      "execution_count": 69,
      "outputs": [
        {
          "output_type": "stream",
          "text": [
            "torch.Size([267, 65, 77, 49])\n",
            "<class 'torch.Tensor'>\n"
          ],
          "name": "stdout"
        }
      ]
    },
    {
      "cell_type": "code",
      "metadata": {
        "id": "Er-Q6F-zlr5s",
        "outputId": "c38fa720-1d98-4085-9da4-ebcc57907602",
        "colab": {
          "base_uri": "https://localhost:8080/",
          "height": 51
        }
      },
      "source": [
        "for file in os.listdir(rest_folder_path):\n",
        "  im = image.load_img(rest_folder_path+'/'+file)\n",
        "  resampled = torch.Tensor(np.array(im.dataobj))\n",
        "  print(resampled.permute(3, 0, 1, 2).shape)\n",
        "  print(type(resampled))\n",
        "  break"
      ],
      "execution_count": 68,
      "outputs": [
        {
          "output_type": "stream",
          "text": [
            "torch.Size([152, 65, 77, 49])\n",
            "<class 'torch.Tensor'>\n"
          ],
          "name": "stdout"
        }
      ]
    },
    {
      "cell_type": "code",
      "metadata": {
        "id": "ZaXd26pgmAg0"
      },
      "source": [
        "from IPython.display import clear_output"
      ],
      "execution_count": 51,
      "outputs": []
    },
    {
      "cell_type": "code",
      "metadata": {
        "id": "OUYksXnIT48n",
        "outputId": "abb048fc-112b-4934-f7c0-007ed94ec3d1",
        "colab": {
          "base_uri": "https://localhost:8080/",
          "height": 268
        }
      },
      "source": [
        " for i in range(65):\n",
        "  clear_output(True)\n",
        "  plt.figure()\n",
        "  plt.imshow(resampled1[128, i])\n",
        "  plt.show()"
      ],
      "execution_count": 73,
      "outputs": [
        {
          "output_type": "display_data",
          "data": {
            "image/png": "[encoded data removed]",
            "text/plain": [
              "<Figure size 432x288 with 1 Axes>"
            ]
          },
          "metadata": {
            "tags": [],
            "needs_background": "light"
          }
        }
      ]
    },
    {
      "cell_type": "code",
      "metadata": {
        "id": "OCFgzlCMajqG"
      },
      "source": [
        ""
      ],
      "execution_count": null,
      "outputs": []
    }
  ]
}